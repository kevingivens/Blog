{
 "cells": [
  {
   "cell_type": "code",
   "execution_count": 1,
   "metadata": {},
   "outputs": [],
   "source": [
    "# from FMNM.BS_pricer import BS_pricer\n",
    "# from FMNM.Parameters import Option_param\n",
    "# from FMNM.Processes import Diffusion_process\n",
    "# from FMNM.cython.solvers import PSOR\n",
    "\n",
    "import numpy as np\n",
    "import scipy.stats as stats\n",
    "import matplotlib.pyplot as plt\n",
    "\n",
    "%matplotlib inline"
   ]
  },
  {
   "cell_type": "markdown",
   "metadata": {},
   "source": [
    "## Adapted from \n",
    "https://github.com/cantaro86/Financial-Models-Numerical-Methods/tree/master"
   ]
  },
  {
   "cell_type": "code",
   "execution_count": 2,
   "metadata": {},
   "outputs": [],
   "source": [
    "N = 4      # number of time steps\n",
    "r = 0.06   # interest rate\n",
    "K = 1.1    # strike\n",
    "T = 3      # Maturity\n",
    "\n",
    "dt = T / (N - 1)  # time interval\n",
    "df = np.exp(-r * dt)  # discount factor per time interval"
   ]
  },
  {
   "cell_type": "code",
   "execution_count": null,
   "metadata": {},
   "outputs": [],
   "source": [
    "S = np.array(\n",
    "    [\n",
    "        [1.00, 1.09, 1.08, 1.34],\n",
    "        [1.00, 1.16, 1.26, 1.54],\n",
    "        [1.00, 1.22, 1.07, 1.03],\n",
    "        [1.00, 0.93, 0.97, 0.92],\n",
    "        [1.00, 1.11, 1.56, 1.52],\n",
    "        [1.00, 0.76, 0.77, 0.90],\n",
    "        [1.00, 0.92, 0.84, 1.01],\n",
    "        [1.00, 0.88, 1.22, 1.34],\n",
    "    ]\n",
    ")"
   ]
  },
  {
   "cell_type": "code",
   "execution_count": 4,
   "metadata": {},
   "outputs": [],
   "source": [
    "S0 = 100.0  # spot stock price\n",
    "K = 100.0  # strike\n",
    "T = 1.0  # maturity\n",
    "r = 0.1  # risk free rate\n",
    "sigma = 0.2  # diffusion coefficient or volatility\n",
    "dt = T / (N - 1)  # time interval\n",
    "df = np.exp(-r * dt)  # discount factor per time time interval\n",
    "\n",
    "paths=10000\n",
    "order=2\n",
    "\n",
    "X0 = np.zeros((paths, 1))\n",
    "    \n",
    "increments = stats.norm.rvs(\n",
    "    loc=(r - sigma**2 / 2) * dt,\n",
    "    scale=np.sqrt(dt) * sigma,\n",
    "    size=(paths, N - 1),\n",
    ")\n",
    "    \n",
    "X = np.concatenate((X0, increments), axis=1).cumsum(1)\n",
    "S = S0 * np.exp(X)\n",
    "\n",
    "H = np.maximum(K - S, 0)  # intrinsic values for put option\n",
    "V = np.zeros_like(H)  # value matrix\n",
    "V[:, -1] = H[:, -1]\n",
    "\n",
    "# Valuation by LS Method\n",
    "for t in range(N - 2, 0, -1):\n",
    "    good_paths = H[:, t] > 0\n",
    "    rg = np.polyfit(S[good_paths, t], V[good_paths, t + 1] * df, 2)  # polynomial regression\n",
    "    C = np.polyval(rg, S[good_paths, t])  # evaluation of regression\n",
    "\n",
    "    exercise = np.zeros(len(good_paths), dtype=bool)\n",
    "    exercise[good_paths] = H[good_paths, t] > C\n",
    "\n",
    "    V[exercise, t] = H[exercise, t]\n",
    "    V[exercise, t+1:] = 0\n",
    "    discount_path = V[:, t] == 0\n",
    "    V[discount_path, t] = V[discount_path, t + 1] * df\n",
    "\n",
    "V0 = np.mean(V[:, 1]) * df"
   ]
  },
  {
   "cell_type": "code",
   "execution_count": 5,
   "metadata": {},
   "outputs": [
    {
     "data": {
      "text/plain": [
       "4.527376487683974"
      ]
     },
     "execution_count": 5,
     "metadata": {},
     "output_type": "execute_result"
    }
   ],
   "source": [
    "V0"
   ]
  },
  {
   "cell_type": "code",
   "execution_count": null,
   "metadata": {},
   "outputs": [],
   "source": [
    "https://numpy.org/doc/stable/reference/routines.polynomials.classes.html"
   ]
  }
 ],
 "metadata": {
  "kernelspec": {
   "display_name": "py10",
   "language": "python",
   "name": "python3"
  },
  "language_info": {
   "codemirror_mode": {
    "name": "ipython",
    "version": 3
   },
   "file_extension": ".py",
   "mimetype": "text/x-python",
   "name": "python",
   "nbconvert_exporter": "python",
   "pygments_lexer": "ipython3",
   "version": "3.10.0"
  }
 },
 "nbformat": 4,
 "nbformat_minor": 2
}
