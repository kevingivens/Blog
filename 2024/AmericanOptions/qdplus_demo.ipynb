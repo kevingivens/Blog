{
 "cells": [
  {
   "cell_type": "code",
   "execution_count": 1,
   "metadata": {},
   "outputs": [],
   "source": [
    "import QuantLib as ql\n",
    "from matplotlib import pyplot as plt\n",
    "import numpy as np\n",
    "import math\n",
    "\n",
    "%matplotlib inline"
   ]
  },
  {
   "cell_type": "markdown",
   "metadata": {},
   "source": [
    "# Build the Process"
   ]
  },
  {
   "cell_type": "code",
   "execution_count": 3,
   "metadata": {},
   "outputs": [],
   "source": [
    "todaysDate = ql.Date(15, ql.May, 2023)\n",
    "ql.Settings.instance().evaluationDate = todaysDate\n",
    "\n",
    "## Option construction\n",
    "exercise = ql.AmericanExercise(todaysDate, ql.Date(17, ql.May, 2024))\n",
    "payoff = ql.PlainVanillaPayoff(ql.Option.Put, 40.0)\n",
    "option = ql.VanillaOption(payoff, exercise)\n",
    "\n",
    "# Market data\n",
    "underlying = ql.SimpleQuote(36.0)\n",
    "dividendYield = ql.FlatForward(todaysDate, 0.00, ql.Actual365Fixed())\n",
    "volatility = ql.BlackConstantVol(todaysDate, ql.TARGET(), 0.20, ql.Actual365Fixed())\n",
    "riskFreeRate = ql.FlatForward(todaysDate, 0.06, ql.Actual365Fixed())\n",
    "\n",
    "# black scholes process contains the term structures\n",
    "process = ql.BlackScholesMertonProcess(\n",
    "    ql.QuoteHandle(underlying),\n",
    "    ql.YieldTermStructureHandle(dividendYield),\n",
    "    ql.YieldTermStructureHandle(riskFreeRate),\n",
    "    ql.BlackVolTermStructureHandle(volatility),\n",
    ")"
   ]
  },
  {
   "cell_type": "markdown",
   "metadata": {},
   "source": [
    "## Build the QD Plus Engine"
   ]
  },
  {
   "cell_type": "code",
   "execution_count": null,
   "metadata": {},
   "outputs": [],
   "source": [
    "qdplus_engine =  ql.QdPlusAmericanEngine(\n",
    "    process,\n",
    "    interpolationPoints = 8,\n",
    "    solverType = ql.QdPlusAmericanEngine.Halley,\n",
    "    eps = 1e-6,\n",
    "    maxIter = None\n",
    ")"
   ]
  },
  {
   "cell_type": "code",
   "execution_count": null,
   "metadata": {},
   "outputs": [],
   "source": [
    "results = []\n",
    "\n",
    "#### Analytic approximations\n",
    "option.setPricingEngine(ql.BaroneAdesiWhaleyApproximationEngine(process))\n",
    "results.append((\"Barone-Adesi-Whaley\", option.NPV()))\n",
    "\n",
    "option.setPricingEngine(ql.BjerksundStenslandApproximationEngine(process))\n",
    "results.append((\"Bjerksund-Stensland\", option.NPV()))"
   ]
  },
  {
   "cell_type": "code",
   "execution_count": null,
   "metadata": {},
   "outputs": [],
   "source": [
    "#### Finite-difference method\n",
    "timeSteps = 801\n",
    "gridPoints = 800\n",
    "dampingSteps = 0\n",
    "schemeDesc = ql.DouglasScheme()\n",
    "fd_engine = ql.FdBlackScholesVanillaEngine(process, timeSteps, gridPoints, dampingSteps, schemeDesc)\n",
    "\n",
    "option.setPricingEngine(fd_engine)\n",
    "results.append((\"finite differences\", option.NPV()))"
   ]
  },
  {
   "cell_type": "markdown",
   "metadata": {},
   "source": [
    "# Linear Regression"
   ]
  },
  {
   "cell_type": "code",
   "execution_count": null,
   "metadata": {},
   "outputs": [],
   "source": [
    "ql.LsmBasisSystem.Monomial \n",
    "ql.LsmBasisSystem.Laguerre\n",
    "ql.LsmBasisSystem.Hermite\n",
    "ql.LsmBasisSystem.Hyperbolic\n",
    "ql.LsmBasisSystem.Chebyshev2nd\n",
    "\n",
    "coeff_[i-1] = GeneralLinearLeastSquares(x, y, v_).coefficients()\n"
   ]
  },
  {
   "cell_type": "code",
   "execution_count": 3,
   "metadata": {},
   "outputs": [
    {
     "data": {
      "text/plain": [
       "[('Barone-Adesi-Whaley', 4.463536264085715),\n",
       " ('Bjerksund-Stensland', 4.4569588667986935),\n",
       " ('finite differences', 4.489992153451754),\n",
       " ('QD+', 4.501016922307475),\n",
       " ('QD+ fixed point', 4.490552145592267)]"
      ]
     },
     "execution_count": 3,
     "metadata": {},
     "output_type": "execute_result"
    }
   ],
   "source": [
    "# Longstaff Schwartz\n",
    "mc_engine = ql.MCAmericanEngine(\n",
    "    process,\n",
    "    \"pseudorandom\",\n",
    "    timeSteps=timeSteps,\n",
    "    timeStepsPerYear=None,\n",
    "    antitheticVariate=False,\n",
    "    controlVariate=False,\n",
    "    requiredSamples=None,\n",
    "    requiredTolerance=0.02,\n",
    "    maxSamples=None,\n",
    "    seed=42,\n",
    "    polynomOrder=3,\n",
    "    polynomType=ql.LsmBasisSystem.Monomial,\n",
    "    antitheticVariateCalibration=None,\n",
    "    seedCalibration=None\n",
    ")\n",
    "\n",
    "option.setPricingEngine(mc_engine)\n",
    "\n",
    "results.append((\"LS American\", option.NPV()))"
   ]
  },
  {
   "cell_type": "code",
   "execution_count": null,
   "metadata": {},
   "outputs": [],
   "source": [
    "# #### Li, M. QD+ American engine\n",
    "qdplus_engine =  ql.QdPlusAmericanEngine(\n",
    "    process,\n",
    "    interpolationPoints = 8,\n",
    "    solverType = ql.QdPlusAmericanEngine.Halley,\n",
    "    eps = 1e-6,\n",
    "    maxIter = None\n",
    ")\n",
    "option.setPricingEngine(qdplus_engine)\n",
    "results.append((\"QD+\", option.NPV()))"
   ]
  },
  {
   "cell_type": "code",
   "execution_count": null,
   "metadata": {},
   "outputs": [],
   "source": [
    "# #### Leif Andersen, Mark Lake and Dimitri Offengenden high performance American engine\n",
    "\n",
    "# Gauss-Legendre (l,m,n)-p Scheme\n",
    "#        \\param l  order of Gauss-Legendre integration within every fixed point iteration step\n",
    "#        \\param m  fixed point iteration steps, first step is a partial Jacobi-Newton,\n",
    "#                  the rest are naive Richardson fixed point iterations\n",
    "#        \\param n  number of Chebyshev nodes to interpolate the exercise boundary\n",
    "#        \\param p  order of Gauss-Legendre integration in final conversion of the\n",
    "#                  exercise boundary into option prices\n",
    "\n",
    "ql.QdFpIterationScheme, ql.QdFpLegendreScheme, ql.QdFpLegendreTanhSinhScheme, ql.QdFpTanhSinhIterationScheme\n",
    "# ql.QdFpAmericanEngine.fastScheme(), ql.QdFpAmericanEngine.highPrecisionScheme()\n",
    "\n",
    "qdf_engine = ql.QdFpAmericanEngine(process, ql.QdFpAmericanEngine.accurateScheme()) \n",
    "\n",
    "option.setPricingEngine(qdf_engine)\n",
    "\n",
    "results.append((\"QD+ fixed point\", option.NPV()))"
   ]
  },
  {
   "cell_type": "markdown",
   "metadata": {},
   "source": [
    "## Build Iteration Scheme"
   ]
  },
  {
   "cell_type": "code",
   "execution_count": null,
   "metadata": {},
   "outputs": [],
   "source": []
  },
  {
   "cell_type": "code",
   "execution_count": null,
   "metadata": {},
   "outputs": [],
   "source": [
    "def calculatePut(S, K, r, q, vol, T, iteration_scheme, process, QdPlusAmericanEngine) -> float:\n",
    "   \n",
    "    if (r < 0.0) and (q < r):\n",
    "        raise Exception, \"double-boundary case q<r<0 for a put option is given\"\n",
    "\n",
    "    xmax = QdPlusAmericanEngine.xMax(K, r, q)\n",
    "    n = iteration_scheme.getNumberOfChebyshevInterpolationNodes()\n",
    "\n",
    "    interp: ql.ChebyshevInterpolation = ql.QdPlusAmericanEngine(\n",
    "        process, \n",
    "        n+1, \n",
    "        ql.QdPlusAmericanEngine.Halley, \n",
    "        1e-8\n",
    "    ).getPutExerciseBoundary(S, K, r, q, vol, T)\n",
    "\n",
    "    z: ql.Array = interp.nodes()\n",
    "    x: ql.Array = 0.5*np.sqrt(T)*(1.0+z)\n",
    "\n",
    "    # Boundary\n",
    "    B = lambda xmax, T, interp, tau: xmax * np.exp(-np.sqrt(np.max(0, interp(2*np.sqrt(np.abs(tau)/T)-1, True))))\n",
    "\n",
    "    h = lambda fv, xmax : np.squared(np.log(fv/xmax))\n",
    "        \n",
    "    # eqn: ql.DqFpEquation = (fpEquation_ == FP_A || (fpEquation_ == Auto && np.abs(r-q) < 0.001)) ? DqFpEquation_A(K, r, q, vol, B, iterationScheme_->getFixedPointIntegrator()) : DqFpEquation_B(K, r, q, vol, B, iterationScheme_->getFixedPointIntegrator()))\n",
    "\n",
    "    eqn = ql.DqFpEquation_A(K, r, q, vol, B, iteration_scheme.getFixedPointIntegrator())\n",
    "    y = ql.Array(x.size())\n",
    "    y[0] = 0.0\n",
    "\n",
    "    n_newton = iteration_scheme.getNumberOfJacobiNewtonFixedPointSteps()\n",
    "    for k in range(n_newton):\n",
    "        for i in range(1, x.size()):\n",
    "            tau = np.square(x[i])\n",
    "            b = B(tau)\n",
    "            \n",
    "            N, D, fv = eqn.f(tau, b)\n",
    "           \n",
    "            if (tau < QL_EPSILON):\n",
    "                y[i] = h(fv)\n",
    "            else:\n",
    "                Nd, Dd = eqn.NDd(tau, b)\n",
    "                # Nd = std::get<0>(ndd)\n",
    "                # Dd = std::get<1>(ndd)\n",
    "                fd = K * np.exp(-(r-q) * tau) * (Nd/D - Dd*N/(D*D))\n",
    "                y[i] = h(b - (fv - b)/ (fd-1))\n",
    "        interp.updateY(y)\n",
    "\n",
    "    n_fp = iteration_scheme.getNumberOfNaiveFixedPointSteps()\n",
    "    for k in range(n_fp):\n",
    "        for i in range(1, x.size()):\n",
    "            tau = np.squared(x[i])\n",
    "            _, fv = eqn.f(tau, B(tau))\n",
    "            y[i] = h(fv)\n",
    "        interp.updateY(y)\n",
    "        \n",
    "    # detail::QdPlusAddOnValue aov(T, S, K, r, q, vol, xmax, interp)\n",
    "    # addOn = (*iteration_scheme.getExerciseBoundaryToPriceIntegrator())(aov, 0.0, np.sqrt(T))\n",
    "\n",
    "    europeanValue = ql.BlackCalculator(ql.Option.Put, K, S * np.exp((r-q)*T), vol*np.sqrt(T), np.exp(-r*T)).value()\n",
    "\n",
    "    return np.max(europeanValue, 0.0) + np.max(0.0, addOn)\n",
    "\n"
   ]
  }
 ],
 "metadata": {
  "kernelspec": {
   "display_name": "py11",
   "language": "python",
   "name": "python3"
  },
  "language_info": {
   "codemirror_mode": {
    "name": "ipython",
    "version": 3
   },
   "file_extension": ".py",
   "mimetype": "text/x-python",
   "name": "python",
   "nbconvert_exporter": "python",
   "pygments_lexer": "ipython3",
   "version": "3.11.7"
  }
 },
 "nbformat": 4,
 "nbformat_minor": 2
}
