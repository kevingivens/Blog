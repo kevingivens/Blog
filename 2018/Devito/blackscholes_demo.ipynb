{
 "cells": [
  {
   "cell_type": "markdown",
   "metadata": {},
   "source": [
    "TL:DR Devito allows users to build finite difference schemes in python and \"compile-down\" to optimized C++\n",
    "\n",
    "Finite difference methods have a long history in quantitative finance.  They are the preferred technique to price and risk manage instruments based on low dimensional probabilistic models that lack analytic solutions.  To implement the finite difference method, one chooses a discretization scheme (or stencil) that approximates the derivatives in the model.  This scheme converts a system of differential equations into a system of algebraic equations that can be solved numerically. \n",
    "\n",
    "Naturally, a scheme introduces error into the calculation that is roughly proportional to the order of the discretization.  Higher order schemes decrease the error in the system but are more difficult to implement by hand in compiled numerical code. Most option pricing libraries provide utilities for building common, low-order schemes. For instance, QuantLib provides forward, backward and central difference operators that can be combined to build a finite difference pricing engine for a given model.\n",
    "\n",
    "A new python library called [Devito](http://www.opesci.org/devito-public) takes a different approach to finite difference model building.  Instead of building a discretization scheme directly in C++, it instead allows users to build an arbitrary scheme in python and \"compile\" that scheme down to optimized C++.  This code can either be JIT compiled and executed immediately or retained for later execution.\n",
    "\n",
    "In order to make this approach possible, Devito leverages Sympy, the python-based computer algebra system.  Devito uses Sympy to algebraically manipulate the system of differential equations and generates the equivalent stencil equations used in the numerical implementation.  It then generates optimized C++ code after passing the stencil equations through various optimization algorithms.    \n",
    "\n",
    "This approach is equivalent to what happens in a compiler.  To wit, \"high-level\" code is parsed, passed through optimization algorithms and printed down to \"low-level\" code.  In this example, python is the high level code and C++ is the low level code. \n",
    "\n",
    "This approach has several advantages; one, the python implementation is close to the mathematical language; two, the often tedious algebraic manipulations needed to build the stencil is off-loaded to the computer algebra system (Sympy); three, the C++ implementation can be highly optimized of efficient computation.\n"
   ]
  },
  {
   "cell_type": "markdown",
   "metadata": {},
   "source": [
    "### Black Scholes Equation\n",
    "\n",
    "As a first example, let's implement a finite difference solution of the Black Scholes model, the Hello World of quant finance. The Black Scholes PDE for a European option with strike, K, spot, S, volatility $\\sigma$, risk free rate, r, expiring at T, is given by\n",
    "\n",
    "$$\n",
    "\\begin{equation}\n",
    "\\frac{\\partial V}{\\partial t} + \\frac{\\sigma^2S^2}{2}\\frac{\\partial ^2 V}{\\partial S^2} + rS\\frac{\\partial V}{\\partial S} - rV = 0\n",
    "\\end{equation}\n",
    "$$\n",
    "\n",
    "with the terminal condition for a Call option given by\n",
    "\n",
    "$$V(S,T) = \\max(S-K,0)$$\n",
    "\n",
    "This PDE can be solved analytically:\n"
   ]
  },
  {
   "cell_type": "markdown",
   "metadata": {},
   "source": [
    "$$V(S,K,t,r, \\sigma)=SN(d_1)−Ke^{−rt}N(d_2)$$\n",
    "\n",
    " \n",
    "$$d_1=\\frac{\\ln\\left(\\frac{S}{K}\\right)+\\left(r+0.5\\sigma^2\\right)T}{\\sigma\\sqrt{T}}\\,\\,\\,d_2=d_1−\\sigma\\sqrt{T}$$\n",
    "\n"
   ]
  },
  {
   "cell_type": "markdown",
   "metadata": {},
   "source": [
    "In Numpy, this pricing function is"
   ]
  },
  {
   "cell_type": "code",
   "execution_count": 1,
   "metadata": {
    "collapsed": true
   },
   "outputs": [],
   "source": [
    "import numpy as np\n",
    "from scipy.stats import norm\n",
    "import matplotlib.pyplot as plt\n",
    "%matplotlib inline"
   ]
  },
  {
   "cell_type": "code",
   "execution_count": 3,
   "metadata": {
    "collapsed": true
   },
   "outputs": [],
   "source": [
    "#Black Scholes Formula\n",
    "def d1(S0, K, r, sigma, t):\n",
    "    return (np.log(S0/K) + (r + sigma**2 / 2) * t)/(sigma * np.sqrt(t))\n",
    " \n",
    "def d2(S0, K, r, sigma, t):\n",
    "    return (np.log(S0/K) + (r - sigma**2 / 2) * t)/(sigma * np.sqrt(t))\n",
    " \n",
    "def BlackScholes(S0, K, r, sigma, T):\n",
    "    return S0 * norm.cdf(d1(S0, K, r, sigma, T)) - K * np.exp(-r*T) * norm.cdf(d2(S0, K, r, sigma, T))\n"
   ]
  },
  {
   "cell_type": "markdown",
   "metadata": {},
   "source": [
    "### BS Finite Difference Scheme in Numpy"
   ]
  },
  {
   "cell_type": "markdown",
   "metadata": {
    "collapsed": true
   },
   "source": [
    "In order to solve the BS PDE using finite difference techniques, we need to choose a discretization scheme. Keeping things simple, we choose central differences in space and forward differencing in time.  Indexing the spatial dimension with $i$ and the temporal dimension with $n$, Black Scholes PDE  then becomes \n",
    "\n",
    "$$\n",
    "\\begin{align}\n",
    "V_{i}^{n+1} &= V_{i}^n -  \\frac{\\sigma^2 (i\\Delta S)^2 \\Delta t}{2\\Delta S^2}\\left(V_{i+1}^n - 2 V_{i}^n + V_{i-1}^n\\right) - r(i\\Delta S)\\frac{\\sigma \\Delta t}{2\\Delta S}\\left(V_{i+1}^n- V_{i-1}^n \\right)\n",
    "+ r \\Delta t V_{i}^n \\\\\n",
    "& = V_{i}^n - \\frac{\\sigma^2 (i)^2 \\Delta t}{2}\\left(V_{i+1}^n - 2 V_{i}^n + V_{i-1}^n\\right) - r(i)\\frac{\\sigma \\Delta t}{2}\\left(V_{i+1}^n- V_{i-1}^n \\right)\n",
    "+ r \\Delta t V_{i}^n \n",
    "\\end{align}\n",
    "$$\n",
    "\n",
    "Let's first implement a Numpy version of the scheme for comparison's sake. The numerical algorithm essentially works as follows \n",
    "\n",
    "1. Evaluate the pricing function at the boundary (payoff)\n",
    "2. Iterate backwards in time, solving the difference equation at each iteration\n",
    "3. Terminate at t=0 (the evaluation date) to obtain the present value (PV)\n",
    "\n",
    "In terms of data structures, all we need in order to implement this algorithm is two Numpy array buffers. \n",
    "\n",
    "#### A word on spatial boundary conditions\n",
    "\n",
    "We need to choose spatial boundary conditions on pricing function.  In practice, this means enforcing some conditions on either the pricing function itself or derivatives of the pricing function.  Following [Wilmott Vol 3](https://www.amazon.com/Paul-Wilmott-Quantitative-Finance-Set/dp/0470018704), we choose the following boundary conditions \n",
    "\n",
    "1. For $S = 0 \\;\\; \\frac{\\partial V}{\\partial t}(0,t) - rV(0,t) = 0$\n",
    "\n",
    "\n",
    "In discrete form this becomes: \n",
    "$$V_n^0 = (1 - r \\delta t) V_{k-1}^0$$\n",
    "\n",
    "2. For $S = S_{max}\\;\\; \\frac{\\partial^2 V}{\\partial S^2}(S,t) = 0$\n",
    "\n",
    "In discrete form this becomes: \n",
    "$$V_n^i = 2V_n^{i-1} - V_n^{i-2}$$\n",
    "\n",
    "In principle, one can choose different boundary conditions without greatly effecting the computed pricing functions.  For the remaining variables needed to solve the problem we make the following choices"
   ]
  },
  {
   "cell_type": "code",
   "execution_count": 4,
   "metadata": {
    "collapsed": true
   },
   "outputs": [],
   "source": [
    "# Some variable declarations needed for numerical implementation\n",
    "nx = 20    # number of space steps\n",
    "s = 0.2    # vol\n",
    "r = 0.05   # interest rate\n",
    "T = 1      # time to expiry\n",
    "K = 100    # Strike\n",
    "dt = (0.9/(s*nx)**2) # time step size\n",
    "nt = int(T/dt) + 1  # number of time steps\n",
    "dt = T/nt\n",
    "dx = 2*K/nx"
   ]
  },
  {
   "cell_type": "markdown",
   "metadata": {},
   "source": [
    "Defining a Call payoff function and initializing it at the t=T boundary"
   ]
  },
  {
   "cell_type": "code",
   "execution_count": 5,
   "metadata": {
    "collapsed": true
   },
   "outputs": [],
   "source": [
    "def payoff(S,K):\n",
    "    return np.maximum(S-K,0)\n",
    "\n",
    "v_payoff = np.vectorize(payoff)\n",
    "v_bs = np.vectorize(BlackScholes)\n",
    "\n",
    "# Init C at the payoff\n",
    "S = np.arange(0,(nx+1)*dx,dx)\n",
    "C = v_payoff(S,K)"
   ]
  },
  {
   "cell_type": "markdown",
   "metadata": {},
   "source": [
    "Now we can define a diffuse function that carries out the finite difference algorithm. Here we name our pricing function `C` for Call in order to distinguish it from `V` used below in the Devito implementation."
   ]
  },
  {
   "cell_type": "code",
   "execution_count": 6,
   "metadata": {
    "collapsed": true
   },
   "outputs": [],
   "source": [
    "def diffuse(C, nt):\n",
    "    for n in range(nt): \n",
    "        Cn = C.copy()\n",
    "        delta = (0.5/dx)*(Cn[2:] - Cn[0:-2])\n",
    "        gamma = (1/(dx**2))*(Cn[2:] - 2*Cn[1:-1] + Cn[0:-2])\n",
    "        theta = -(0.5*s**2)*np.multiply(np.square(S[1:-1]),gamma) - r*np.multiply(S[1:-1],delta) + r*Cn[1:-1]\n",
    "        C[1:-1] = Cn[1:-1] - dt*theta\n",
    "        #spatial bc's\n",
    "        C[0] = Cn[0]*(1 - r*dt)\n",
    "        C[nx-1] = 2*C[nx-2] - C[nx-3]\n"
   ]
  },
  {
   "cell_type": "markdown",
   "metadata": {},
   "source": [
    "With our implementation in place, let's diffuse the model back 10 time steps. "
   ]
  },
  {
   "cell_type": "code",
   "execution_count": 7,
   "metadata": {
    "collapsed": true
   },
   "outputs": [],
   "source": [
    "diffuse(C, nt=10)"
   ]
  },
  {
   "cell_type": "markdown",
   "metadata": {},
   "source": [
    "Comparing this to analytic solution to BS gives"
   ]
  },
  {
   "cell_type": "code",
   "execution_count": 8,
   "metadata": {},
   "outputs": [
    {
     "data": {
      "text/plain": [
       "array([  0.00000000e+00,   6.77083365e-15,   2.47797465e-11,\n",
       "         1.38986768e-08,   2.31379196e-06,   1.50919507e-04,\n",
       "         4.48551091e-03,   6.67669285e-02,   5.33585468e-01,\n",
       "         2.44970519e+00,   7.05423863e+00,   1.43368053e+01,\n",
       "         2.32467881e+01,   3.28816476e+01,   4.27765661e+01,\n",
       "         5.27502671e+01,   6.27445527e+01,   7.27434913e+01,\n",
       "         8.27433082e+01,   9.27431251e+01,   1.00000000e+02])"
      ]
     },
     "execution_count": 8,
     "metadata": {},
     "output_type": "execute_result"
    }
   ],
   "source": [
    "C"
   ]
  },
  {
   "cell_type": "code",
   "execution_count": 10,
   "metadata": {},
   "outputs": [
    {
     "name": "stderr",
     "output_type": "stream",
     "text": [
      "/home/givenskm/anaconda3/envs/devito/lib/python3.6/site-packages/ipykernel/__main__.py:3: RuntimeWarning: divide by zero encountered in log\n",
      "  app.launch_new_instance()\n",
      "/home/givenskm/anaconda3/envs/devito/lib/python3.6/site-packages/ipykernel/__main__.py:6: RuntimeWarning: divide by zero encountered in log\n"
     ]
    },
    {
     "data": {
      "text/plain": [
       "array([  0.00000000e+00,   2.13184792e-53,   8.12368101e-27,\n",
       "         1.49012572e-15,   1.86102962e-09,   8.60357129e-06,\n",
       "         1.81033147e-03,   5.89084888e-02,   5.84232552e-01,\n",
       "         2.66791893e+00,   7.33121846e+00,   1.45076224e+01,\n",
       "         2.33168378e+01,   3.29033374e+01,   4.27809370e+01,\n",
       "         5.27490737e+01,   6.27415850e+01,   7.27399614e+01,\n",
       "         8.27396309e+01,   9.27395669e+01,   1.02739555e+02])"
      ]
     },
     "execution_count": 10,
     "metadata": {},
     "output_type": "execute_result"
    }
   ],
   "source": [
    "v_bs(S0=S, K=100, r=r, sigma=s, T=10*dt)"
   ]
  },
  {
   "cell_type": "markdown",
   "metadata": {},
   "source": [
    "Ploting the PV gives reasonable looking results"
   ]
  },
  {
   "cell_type": "code",
   "execution_count": 11,
   "metadata": {},
   "outputs": [
    {
     "data": {
      "text/plain": [
       "[<matplotlib.lines.Line2D at 0x7ff1d7767518>]"
      ]
     },
     "execution_count": 11,
     "metadata": {},
     "output_type": "execute_result"
    },
    {
     "data": {
      "image/png": "[encoded data removed]",
      "text/plain": [
       "<matplotlib.figure.Figure at 0x7ff1d7767080>"
      ]
     },
     "metadata": {},
     "output_type": "display_data"
    }
   ],
   "source": [
    "fig, ax = plt.subplots()\n",
    "ax.plot(S, C)"
   ]
  },
  {
   "cell_type": "markdown",
   "metadata": {},
   "source": [
    "## Devito Implementation"
   ]
  },
  {
   "cell_type": "markdown",
   "metadata": {},
   "source": [
    "Now we want to implement the same model in Devito. First, a brief word about the Devito API. (For more info, consult the Devito documentation)  \n",
    "\n",
    "A key idea in Devito is to present users with a `Function` object that has dual identity, one symbolic and the other numeric.  That is, `Function` objects can be manipulated by Sympy in order to generate the stencil equations. Later, when the finite difference scheme is being numerically solved, `Function` objects hold numerical data in two Numpy array buffers in similar way to how data was stored during the Numpy implementation given above.  This dual approach allows users to implement and solve the finite difference problems in a natural way.  They don't have to implement and reason about separate data structures for the differential equations as well as the numerical implementation.\n",
    "\n",
    "For our implementation, we first need to declare instances of `Grid`, `Function` and `TimeFunction` (time varying function).  We then define the stencil equation using the `TimeFunction` `V`'s Sympy identity."
   ]
  },
  {
   "cell_type": "code",
   "execution_count": 12,
   "metadata": {
    "collapsed": true
   },
   "outputs": [],
   "source": [
    "from devito import Grid, TimeFunction, Function, Operator\n",
    "from sympy import Eq, solve"
   ]
  },
  {
   "cell_type": "code",
   "execution_count": 13,
   "metadata": {
    "collapsed": true
   },
   "outputs": [],
   "source": [
    "# Initialize `u` for space order 2\n",
    "grid = Grid(shape=(nx+1,), extent=(200.,))\n",
    "V = TimeFunction(name='V', grid=grid, space_order=2)\n",
    "X = Function(name='X', grid=grid)\n",
    "\n",
    "# Create an equation with second-order derivatives\n",
    "eq = Eq(V.dt, 0.5*s**2*X*X*(V.dx2) + r*X*(V.dx) - r*V)\n",
    "stencil = solve(eq, V.forward)[0]\n",
    "eq_stencil = Eq(V.forward, stencil)"
   ]
  },
  {
   "cell_type": "markdown",
   "metadata": {},
   "source": [
    "Looking at the stencil, one can see that it is equivalent to the Numpy version of the stencil defined earlier."
   ]
  },
  {
   "cell_type": "code",
   "execution_count": 14,
   "metadata": {},
   "outputs": [
    {
     "name": "stdout",
     "output_type": "stream",
     "text": [
      "(0.025*dt*h_x*(-V(t, x - h_x) + V(t, x + h_x))*X(x) + 0.02*dt*(-2.0*V(t, x) + V(t, x - h_x) + V(t, x + h_x))*X(x)**2 + 0.05*h_x**2*(-dt + 20.0)*V(t, x))/h_x**2\n"
     ]
    }
   ],
   "source": [
    "print(stencil)"
   ]
  },
  {
   "cell_type": "markdown",
   "metadata": {},
   "source": [
    "Next we implement boundary conditions by setting the `Data` attribute of V equal to the payoff value.  We also enforce spatial boundary conditions as before.  Finally, we construct an `Operator` object from the stencil and boundary conditions.  This is the object that carries out the diffusion in order to solve the finite difference problem."
   ]
  },
  {
   "cell_type": "code",
   "execution_count": 15,
   "metadata": {
    "collapsed": true
   },
   "outputs": [],
   "source": [
    "# Init C at the payoff\n",
    "S = np.arange(0,(nx+1)*dx,dx)\n",
    "V.data[0] = v_payoff(S,K)\n",
    "V.data[1] = v_payoff(S,K)\n",
    "X.data[:] = S\n",
    "\n",
    "# Create boundary condition expressions\n",
    "x = grid.dimensions\n",
    "t = grid.stepping_dim\n",
    "bc = [Eq(V.indexed[t+1, 0], V.indexed[t, 0]*(1 - r*dt))]  # bottom\n",
    "bc += [Eq(V.indexed[t+1,-1], 2*V.indexed[t+1,-2] - V.indexed[t+1,-3])]  # top\n",
    "\n",
    "# Define the operator\n",
    "op = Operator([eq_stencil] + bc)"
   ]
  },
  {
   "cell_type": "markdown",
   "metadata": {},
   "source": [
    "The data arrays before simulation are initialized to the payoff boundary"
   ]
  },
  {
   "cell_type": "code",
   "execution_count": 16,
   "metadata": {},
   "outputs": [
    {
     "data": {
      "text/plain": [
       "array([   0.,    0.,    0.,    0.,    0.,    0.,    0.,    0.,    0.,\n",
       "          0.,    0.,   10.,   20.,   30.,   40.,   50.,   60.,   70.,\n",
       "         80.,   90.,  100.], dtype=float32)"
      ]
     },
     "execution_count": 16,
     "metadata": {},
     "output_type": "execute_result"
    }
   ],
   "source": [
    "V.data[1]"
   ]
  },
  {
   "cell_type": "markdown",
   "metadata": {},
   "source": [
    "Diffusing the operator 10 time steps as before we get"
   ]
  },
  {
   "cell_type": "code",
   "execution_count": 17,
   "metadata": {},
   "outputs": [
    {
     "name": "stderr",
     "output_type": "stream",
     "text": [
      "CustomCompiler: compiled /tmp/devito-oebkv76j/41acee72a2d7a564a563c14bcd4b5358a3ed3147.c [1.23 s]\n",
      "=========================================================================================\n",
      "Section section_0<10,20> with OI=1.44 computed in 0.000 s [4.00 GFlops/s]\n",
      "Section main<10> with OI=1.67 computed in 0.000 s [0.11 GFlops/s, 0.01 GPts/s]\n",
      "=========================================================================================\n"
     ]
    }
   ],
   "source": [
    "op(time=10, dt=dt)"
   ]
  },
  {
   "cell_type": "markdown",
   "metadata": {},
   "source": [
    "Now lets inspect the data array"
   ]
  },
  {
   "cell_type": "code",
   "execution_count": 18,
   "metadata": {},
   "outputs": [
    {
     "data": {
      "text/plain": [
       "array([  0.00000000e+00,   6.77083621e-15,   2.47797494e-11,\n",
       "         1.38986778e-08,   2.31379227e-06,   1.50919528e-04,\n",
       "         4.48551122e-03,   6.67669326e-02,   5.33585429e-01,\n",
       "         2.44970512e+00,   7.05423832e+00,   1.43368015e+01,\n",
       "         2.32467213e+01,   3.28807259e+01,   4.27697105e+01,\n",
       "         5.27169189e+01,   6.26308594e+01,   7.24206314e+01,\n",
       "         8.20446320e+01,   9.12274399e+01,   1.00405121e+02], dtype=float32)"
      ]
     },
     "execution_count": 18,
     "metadata": {},
     "output_type": "execute_result"
    }
   ],
   "source": [
    "V.data[0]"
   ]
  },
  {
   "cell_type": "markdown",
   "metadata": {},
   "source": [
    "Comparing that with the Numpy implemenation gives similar results"
   ]
  },
  {
   "cell_type": "code",
   "execution_count": 20,
   "metadata": {},
   "outputs": [
    {
     "data": {
      "text/plain": [
       "array([  0.00000000e+00,   6.77083365e-15,   2.47797465e-11,\n",
       "         1.38986768e-08,   2.31379196e-06,   1.50919507e-04,\n",
       "         4.48551091e-03,   6.67669285e-02,   5.33585468e-01,\n",
       "         2.44970519e+00,   7.05423863e+00,   1.43368053e+01,\n",
       "         2.32467881e+01,   3.28816476e+01,   4.27765661e+01,\n",
       "         5.27502671e+01,   6.27445527e+01,   7.27434913e+01,\n",
       "         8.27433082e+01,   9.27431251e+01,   1.00000000e+02])"
      ]
     },
     "execution_count": 20,
     "metadata": {},
     "output_type": "execute_result"
    }
   ],
   "source": [
    "C"
   ]
  },
  {
   "cell_type": "markdown",
   "metadata": {},
   "source": [
    "As one can see from the results, the closest agreement between all three solutions is away from the boundaries and the cusp S = K.  This makes sense as the pricing function isn't smooth at those points.  I will explore the numerical errors in a later post."
   ]
  },
  {
   "cell_type": "markdown",
   "metadata": {
    "collapsed": true
   },
   "source": [
    "For fun, let's you can take a look at the C++ code that was generated and JIT compiled during evaluation"
   ]
  },
  {
   "cell_type": "code",
   "execution_count": 21,
   "metadata": {},
   "outputs": [
    {
     "name": "stdout",
     "output_type": "stream",
     "text": [
      "#define _POSIX_C_SOURCE 200809L\n",
      "#include \"stdlib.h\"\n",
      "#include \"math.h\"\n",
      "#include \"sys/time.h\"\n",
      "#include \"xmmintrin.h\"\n",
      "#include \"pmmintrin.h\"\n",
      "\n",
      "struct profile\n",
      "{\n",
      "  double section_0;\n",
      "  double section_1;\n",
      "} ;\n",
      "\n",
      "\n",
      "int Kernel(float *restrict V_vec, float *restrict X_vec, const float dt, const float h_x, const int t_size, const int t_s, const int t_e, const int time_size, const int time_s, const int time_e, const int x_size, const int x_s, const int x_e, void *_timings)\n",
      "{\n",
      "  float (*restrict V)[x_size] __attribute__((aligned(64))) = (float (*)[x_size]) V_vec;\n",
      "  float (*restrict X) __attribute__((aligned(64))) = (float (*)) X_vec;\n",
      "  struct profile *timings = (struct profile*) _timings;\n",
      "  /* Flush denormal numbers to zero in hardware */\n",
      "  _MM_SET_DENORMALS_ZERO_MODE(_MM_DENORMALS_ZERO_ON);\n",
      "  _MM_SET_FLUSH_ZERO_MODE(_MM_FLUSH_ZERO_ON);\n",
      "  struct timeval start_section_1, end_section_1;\n",
      "  gettimeofday(&start_section_1, NULL);\n",
      "  for (int time = t_s, t0 = (time)%(2), t1 = (time + 1)%(2); time < t_e - 1; time += 1, t0 = (time)%(2), t1 = (time + 1)%(2))\n",
      "  {\n",
      "    for (int x = x_s + 1; x < x_e - 1; x += 1)\n",
      "    {\n",
      "      V[t1][x] = (2.5e-2F*dt*h_x*(-V[t0][x - 1] + V[t0][x + 1])*X[x] + 2.0e-2F*dt*(X[x]*X[x])*(-2.0F*V[t0][x] + V[t0][x - 1] + V[t0][x + 1]) + 5.0e-2F*(h_x*h_x)*(-dt + 2.0e+1F)*V[t0][x])/pow(h_x, 2);\n",
      "    }\n",
      "    V[t1][0] = 9.97222222222222e-1F*V[t0][0];\n",
      "    V[t1][-1] = -V[t1][-3] + 2*V[t1][-2];\n",
      "  }\n",
      "  gettimeofday(&end_section_1, NULL);\n",
      "  timings->section_1 += (double)(end_section_1.tv_sec-start_section_1.tv_sec)+(double)(end_section_1.tv_usec-start_section_1.tv_usec)/1000000;\n",
      "  return 0;\n",
      "}\n"
     ]
    }
   ],
   "source": [
    "print(op.ccode)"
   ]
  },
  {
   "cell_type": "markdown",
   "metadata": {},
   "source": [
    "## Conclusion\n",
    "\n",
    "In this post we solved Black Scholes equation using finite difference methods in both Numpy and Devito.  As you can see, their output is similar but their implementation is different.  The great thing about Devito is that it allows users to build complex stencils and solve pde's without having to worry about hand writing optimized C++ code.  This achieves a nice seperation of concerns between model building in Python and numerical implemenation in C++.  \n",
    "\n",
    "In future posts, I plan on implementing more finance models in Devito and comparing Devito's performance with conventional pricing libraries like QuantLib.  Until then, thanks for visiting my blog.  See you next time."
   ]
  }
 ],
 "metadata": {
  "kernelspec": {
   "display_name": "Python [conda env:devito]",
   "language": "python",
   "name": "conda-env-devito-py"
  },
  "language_info": {
   "codemirror_mode": {
    "name": "ipython",
    "version": 3
   },
   "file_extension": ".py",
   "mimetype": "text/x-python",
   "name": "python",
   "nbconvert_exporter": "python",
   "pygments_lexer": "ipython3",
   "version": "3.6.3"
  },
  "widgets": {
   "state": {},
   "version": "1.1.2"
  }
 },
 "nbformat": 4,
 "nbformat_minor": 1
}
