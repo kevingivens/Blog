{
 "cells": [
  {
   "cell_type": "code",
   "execution_count": 1,
   "metadata": {},
   "outputs": [],
   "source": [
    "import QuantLib as ql\n",
    "from matplotlib import pyplot as plt\n",
    "import numpy as np\n",
    "import math\n",
    "\n",
    "%matplotlib inline"
   ]
  },
  {
   "cell_type": "code",
   "execution_count": null,
   "metadata": {},
   "outputs": [],
   "source": [
    "todaysDate = ql.Date(15, ql.May, 2023)\n",
    "ql.Settings.instance().evaluationDate = todaysDate\n",
    "\n",
    "## Option construction\n",
    "exercise = ql.AmericanExercise(todaysDate, ql.Date(17, ql.May, 2024))\n",
    "payoff = ql.PlainVanillaPayoff(ql.Option.Put, 40.0)\n",
    "\n",
    "option = ql.VanillaOption(payoff, exercise)\n",
    "\n",
    "\n",
    "# ### Market data\n",
    "#\n",
    "underlying = ql.SimpleQuote(36.0)\n",
    "dividendYield = ql.FlatForward(todaysDate, 0.00, ql.Actual365Fixed())\n",
    "volatility = ql.BlackConstantVol(todaysDate, ql.TARGET(), 0.20, ql.Actual365Fixed())\n",
    "riskFreeRate = ql.FlatForward(todaysDate, 0.06, ql.Actual365Fixed())\n",
    "\n",
    "#\n",
    "process = ql.BlackScholesMertonProcess(\n",
    "    ql.QuoteHandle(underlying),\n",
    "    ql.YieldTermStructureHandle(dividendYield),\n",
    "    ql.YieldTermStructureHandle(riskFreeRate),\n",
    "    ql.BlackVolTermStructureHandle(volatility),\n",
    ")\n",
    "\n",
    "# ### Pricing\n",
    "#\n",
    "# We'll collect tuples of method name, option value, and estimated error from the analytic formula.\n",
    "\n",
    "results = []\n",
    "\n",
    "#### Analytic approximations\n",
    "option.setPricingEngine(ql.BaroneAdesiWhaleyApproximationEngine(process))\n",
    "results.append((\"Barone-Adesi-Whaley\", option.NPV()))\n",
    "\n",
    "option.setPricingEngine(ql.BjerksundStenslandApproximationEngine(process))\n",
    "results.append((\"Bjerksund-Stensland\", option.NPV()))\n",
    "\n",
    "#### Finite-difference method\n",
    "timeSteps = 801\n",
    "gridPoints = 800\n",
    "\n",
    "option.setPricingEngine(ql.FdBlackScholesVanillaEngine(process, timeSteps, gridPoints))\n",
    "results.append((\"finite differences\", option.NPV()))\n",
    "\n",
    "# Longstaff Schwartz\n",
    "mc_engine = ql.MCAmericanEngine(\n",
    "    process,\n",
    "    \"pseudorandom\",\n",
    "    timeSteps=timeSteps,\n",
    "    timeStepsPerYear=None,\n",
    "    antitheticVariate=False,\n",
    "    controlVariate=False,\n",
    "    requiredSamples=None,\n",
    "    requiredTolerance=None,\n",
    "    maxSamples=None,\n",
    "    seed=0,\n",
    "    polynomOrder=2,\n",
    "    polynomType=ql.LsmBasisSystem.Monomial,\n",
    "    nCalibrationSamples=2048,\n",
    "    antitheticVariateCalibration=None,\n",
    "    seedCalibration=None\n",
    ")\n",
    "\n",
    "option.setPricingEngine(mc_engine)\n",
    "\n",
    "results.append((\"LS American\", option.NPV()))\n",
    "\n",
    "# #### Li, M. QD+ American engine\n",
    "qdplus_engine =  ql.QdPlusAmericanEngine(\n",
    "    process,\n",
    "    interpolationPoints = 8,\n",
    "    solverType = ql.QdPlusAmericanEngine.Halley,\n",
    "    eps = 1e-6,\n",
    "    maxIter = None\n",
    ")\n",
    "option.setPricingEngine(qdplus_engine)\n",
    "results.append((\"QD+\", option.NPV()))\n",
    "\n",
    "# #### Leif Andersen, Mark Lake and Dimitri Offengenden high performance American engine\n",
    "\n",
    "option.setPricingEngine(\n",
    "    ql.QdFpAmericanEngine(process, ql.QdFpAmericanEngine.accurateScheme())\n",
    ")\n",
    "results.append((\"QD+ fixed point\", option.NPV()))"
   ]
  },
  {
   "cell_type": "code",
   "execution_count": 3,
   "metadata": {},
   "outputs": [
    {
     "data": {
      "text/plain": [
       "[('Barone-Adesi-Whaley', 4.463536264085715),\n",
       " ('Bjerksund-Stensland', 4.4569588667986935),\n",
       " ('finite differences', 4.489992153451754),\n",
       " ('QD+', 4.501016922307475),\n",
       " ('QD+ fixed point', 4.490552145592267)]"
      ]
     },
     "execution_count": 3,
     "metadata": {},
     "output_type": "execute_result"
    }
   ],
   "source": [
    "results"
   ]
  },
  {
   "cell_type": "code",
   "execution_count": null,
   "metadata": {},
   "outputs": [],
   "source": []
  }
 ],
 "metadata": {
  "kernelspec": {
   "display_name": "py11",
   "language": "python",
   "name": "python3"
  },
  "language_info": {
   "codemirror_mode": {
    "name": "ipython",
    "version": 3
   },
   "file_extension": ".py",
   "mimetype": "text/x-python",
   "name": "python",
   "nbconvert_exporter": "python",
   "pygments_lexer": "ipython3",
   "version": "3.11.7"
  }
 },
 "nbformat": 4,
 "nbformat_minor": 2
}
