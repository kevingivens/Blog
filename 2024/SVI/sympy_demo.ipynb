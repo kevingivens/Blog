{
 "cells": [
  {
   "cell_type": "code",
   "execution_count": 16,
   "metadata": {},
   "outputs": [],
   "source": [
    "from sympy.stats import Normal, density, cdf \n",
    "from sympy import Symbol, simplify, pprint, diff, log, sqrt\n",
    "from sympy.printing.numpy import NumPyPrinter, SciPyPrinter"
   ]
  },
  {
   "cell_type": "markdown",
   "metadata": {},
   "source": [
    "## Standard Gaussian Density from sympy stats"
   ]
  },
  {
   "cell_type": "code",
   "execution_count": 2,
   "metadata": {},
   "outputs": [
    {
     "data": {
      "text/latex": [
       "$\\displaystyle \\frac{\\sqrt{2} e^{- \\frac{x^{2}}{2}}}{2 \\sqrt{\\pi}}$"
      ],
      "text/plain": [
       "sqrt(2)*exp(-x**2/2)/(2*sqrt(pi))"
      ]
     },
     "execution_count": 2,
     "metadata": {},
     "output_type": "execute_result"
    }
   ],
   "source": [
    "x = Symbol(\"x\")\n",
    "\n",
    "N = Normal(\"N\", 0, 1)\n",
    "\n",
    "density(N)(x)"
   ]
  },
  {
   "cell_type": "markdown",
   "metadata": {},
   "source": [
    "## CDF"
   ]
  },
  {
   "cell_type": "code",
   "execution_count": 3,
   "metadata": {},
   "outputs": [
    {
     "data": {
      "text/latex": [
       "$\\displaystyle \\frac{\\operatorname{erf}{\\left(\\frac{\\sqrt{2} x}{2} \\right)}}{2} + \\frac{1}{2}$"
      ],
      "text/plain": [
       "erf(sqrt(2)*x/2)/2 + 1/2"
      ]
     },
     "execution_count": 3,
     "metadata": {},
     "output_type": "execute_result"
    }
   ],
   "source": [
    "cdf(N)(x)"
   ]
  },
  {
   "cell_type": "markdown",
   "metadata": {},
   "source": [
    "## Differentiating with respect to x returns the pdf"
   ]
  },
  {
   "cell_type": "code",
   "execution_count": 4,
   "metadata": {},
   "outputs": [
    {
     "data": {
      "text/latex": [
       "$\\displaystyle \\frac{\\sqrt{2} e^{- \\frac{x^{2}}{2}}}{2 \\sqrt{\\pi}}$"
      ],
      "text/plain": [
       "sqrt(2)*exp(-x**2/2)/(2*sqrt(pi))"
      ]
     },
     "execution_count": 4,
     "metadata": {},
     "output_type": "execute_result"
    }
   ],
   "source": [
    "diff(cdf(N)(x), x)"
   ]
  },
  {
   "cell_type": "markdown",
   "metadata": {},
   "source": [
    "## Now define the PV of a European Call using the Black Model (lognormal forward diffusion)"
   ]
  },
  {
   "cell_type": "code",
   "execution_count": 6,
   "metadata": {},
   "outputs": [],
   "source": [
    "# discount factor\n",
    "df = Symbol(\"df\", positive=True)\n",
    "# forward\n",
    "f = Symbol(\"f\", positive=True)\n",
    "# volatility\n",
    "sigma = Symbol(\"sigma\", positive=True)\n",
    "# strike\n",
    "k = Symbol(\"k\", positive=True)\n",
    "#time to maturity\n",
    "t = Symbol(\"t\", positive=True)\n",
    "\n",
    "d1 = log(f/k)/(sigma*sqrt(t)) + 0.5*(sigma*sqrt(t))\n",
    "d2 = d1 - sigma\n",
    "pv = df * (f*cdf(N)(d1) - k*cdf(N)(d2))"
   ]
  },
  {
   "cell_type": "code",
   "execution_count": 7,
   "metadata": {},
   "outputs": [
    {
     "data": {
      "text/latex": [
       "$\\displaystyle \\frac{df \\left(f \\left(\\operatorname{erf}{\\left(\\frac{\\sqrt{2} \\cdot \\left(0.5 \\sigma^{2} t + \\log{\\left(\\frac{f}{k} \\right)}\\right)}{2 \\sigma \\sqrt{t}} \\right)} + 1\\right) - k \\left(\\operatorname{erf}{\\left(\\frac{\\sqrt{2} \\left(\\sigma^{2} \\sqrt{t} \\left(0.5 \\sqrt{t} - 1\\right) + \\log{\\left(\\frac{f}{k} \\right)}\\right)}{2 \\sigma \\sqrt{t}} \\right)} + 1\\right)\\right)}{2}$"
      ],
      "text/plain": [
       "df*(f*(erf(sqrt(2)*(0.5*sigma**2*t + log(f/k))/(2*sigma*sqrt(t))) + 1) - k*(erf(sqrt(2)*(sigma**2*sqrt(t)*(0.5*sqrt(t) - 1) + log(f/k))/(2*sigma*sqrt(t))) + 1))/2"
      ]
     },
     "execution_count": 7,
     "metadata": {},
     "output_type": "execute_result"
    }
   ],
   "source": [
    "pv.simplify()"
   ]
  },
  {
   "cell_type": "markdown",
   "metadata": {},
   "source": [
    "## Delta Forward"
   ]
  },
  {
   "cell_type": "code",
   "execution_count": 14,
   "metadata": {},
   "outputs": [],
   "source": [
    "delta_fwd = diff(pv, f).simplify()"
   ]
  },
  {
   "cell_type": "markdown",
   "metadata": {},
   "source": [
    "## Theta"
   ]
  },
  {
   "cell_type": "code",
   "execution_count": 11,
   "metadata": {},
   "outputs": [
    {
     "data": {
      "text/latex": [
       "$\\displaystyle \\frac{\\sqrt{2} df \\left(f e^{\\frac{\\left(\\sigma^{2} \\sqrt{t} \\left(0.5 \\sqrt{t} - 1\\right) + \\log{\\left(\\frac{f}{k} \\right)}\\right)^{2}}{2 \\sigma^{2} t}} - k e^{\\frac{\\left(0.5 \\sigma^{2} t + \\log{\\left(\\frac{f}{k} \\right)}\\right)^{2}}{2 \\sigma^{2} t}}\\right) \\left(0.5 \\sigma^{2} t - \\log{\\left(\\frac{f}{k} \\right)}\\right) e^{- \\frac{\\left(0.5 \\sigma^{2} t + \\log{\\left(\\frac{f}{k} \\right)}\\right)^{2} + \\left(\\sigma^{2} \\sqrt{t} \\left(0.5 \\sqrt{t} - 1\\right) + \\log{\\left(\\frac{f}{k} \\right)}\\right)^{2}}{2 \\sigma^{2} t}}}{4 \\sqrt{\\pi} \\sigma t^{\\frac{3}{2}}}$"
      ],
      "text/plain": [
       "sqrt(2)*df*(f*exp((sigma**2*sqrt(t)*(0.5*sqrt(t) - 1) + log(f/k))**2/(2*sigma**2*t)) - k*exp((0.5*sigma**2*t + log(f/k))**2/(2*sigma**2*t)))*(0.5*sigma**2*t - log(f/k))*exp(-((0.5*sigma**2*t + log(f/k))**2 + (sigma**2*sqrt(t)*(0.5*sqrt(t) - 1) + log(f/k))**2)/(2*sigma**2*t))/(4*sqrt(pi)*sigma*t**(3/2))"
      ]
     },
     "execution_count": 11,
     "metadata": {},
     "output_type": "execute_result"
    }
   ],
   "source": [
    "diff(pv, t).simplify()"
   ]
  },
  {
   "cell_type": "markdown",
   "metadata": {},
   "source": [
    "## Vega"
   ]
  },
  {
   "cell_type": "code",
   "execution_count": 20,
   "metadata": {},
   "outputs": [
    {
     "data": {
      "text/latex": [
       "$\\displaystyle \\frac{\\sqrt{2} df \\left(f \\left(0.5 \\sigma^{2} t - \\log{\\left(\\frac{f}{k} \\right)}\\right) e^{\\frac{\\left(\\sigma^{2} \\sqrt{t} \\left(0.5 \\sqrt{t} - 1\\right) + \\log{\\left(\\frac{f}{k} \\right)}\\right)^{2}}{2 \\sigma^{2} t}} + k \\left(\\sigma^{2} \\sqrt{t} \\left(1 - 0.5 \\sqrt{t}\\right) + \\log{\\left(\\frac{f}{k} \\right)}\\right) e^{\\frac{\\left(0.5 \\sigma^{2} t + \\log{\\left(\\frac{f}{k} \\right)}\\right)^{2}}{2 \\sigma^{2} t}}\\right) e^{- \\frac{\\left(0.5 \\sigma^{2} t + \\log{\\left(\\frac{f}{k} \\right)}\\right)^{2} + \\left(\\sigma^{2} \\sqrt{t} \\left(0.5 \\sqrt{t} - 1\\right) + \\log{\\left(\\frac{f}{k} \\right)}\\right)^{2}}{2 \\sigma^{2} t}}}{2 \\sqrt{\\pi} \\sigma^{2} \\sqrt{t}}$"
      ],
      "text/plain": [
       "sqrt(2)*df*(f*(0.5*sigma**2*t - log(f/k))*exp((sigma**2*sqrt(t)*(0.5*sqrt(t) - 1) + log(f/k))**2/(2*sigma**2*t)) + k*(sigma**2*sqrt(t)*(1 - 0.5*sqrt(t)) + log(f/k))*exp((0.5*sigma**2*t + log(f/k))**2/(2*sigma**2*t)))*exp(-((0.5*sigma**2*t + log(f/k))**2 + (sigma**2*sqrt(t)*(0.5*sqrt(t) - 1) + log(f/k))**2)/(2*sigma**2*t))/(2*sqrt(pi)*sigma**2*sqrt(t))"
      ]
     },
     "execution_count": 20,
     "metadata": {},
     "output_type": "execute_result"
    }
   ],
   "source": [
    "diff(pv, sigma).simplify()"
   ]
  },
  {
   "cell_type": "code",
   "execution_count": 19,
   "metadata": {},
   "outputs": [
    {
     "name": "stdout",
     "output_type": "stream",
     "text": [
      "(1/2)*df*scipy.special.erf(0.25*numpy.sqrt(2)*sigma*numpy.sqrt(t) + (1/2)*numpy.sqrt(2)*numpy.log(f/k)/(sigma*numpy.sqrt(t))) + (1/2)*df + (1/2)*numpy.sqrt(2)*df*numpy.exp(-1/2*(0.5*sigma**2*t + numpy.log(f/k))**2/(sigma**2*t))/(numpy.sqrt(scipy.constants.pi)*sigma*numpy.sqrt(t)) - 1/2*numpy.sqrt(2)*df*k*numpy.exp(-1/2*(-sigma**2*numpy.sqrt(t) + 0.5*sigma**2*t + numpy.log(f/k))**2/(sigma**2*t))/(numpy.sqrt(scipy.constants.pi)*f*sigma*numpy.sqrt(t))\n"
     ]
    }
   ],
   "source": [
    "code = SciPyPrinter().doprint(delta_fwd)\n",
    "\n",
    "print(code)"
   ]
  },
  {
   "cell_type": "code",
   "execution_count": null,
   "metadata": {},
   "outputs": [],
   "source": []
  }
 ],
 "metadata": {
  "kernelspec": {
   "display_name": "py11",
   "language": "python",
   "name": "python3"
  },
  "language_info": {
   "codemirror_mode": {
    "name": "ipython",
    "version": 3
   },
   "file_extension": ".py",
   "mimetype": "text/x-python",
   "name": "python",
   "nbconvert_exporter": "python",
   "pygments_lexer": "ipython3",
   "version": "3.11.7"
  }
 },
 "nbformat": 4,
 "nbformat_minor": 2
}
